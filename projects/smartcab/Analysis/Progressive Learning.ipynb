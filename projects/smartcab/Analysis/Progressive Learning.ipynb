{
 "cells": [
  {
   "cell_type": "code",
   "execution_count": 1,
   "metadata": {
    "collapsed": false
   },
   "outputs": [
    {
     "name": "stderr",
     "output_type": "stream",
     "text": [
      "/home/ankdesh/installed/anaconda/envs/nanodegree/lib/python2.7/site-packages/IPython/html.py:14: ShimWarning: The `IPython.html` package has been deprecated. You should import from `notebook` instead. `IPython.html.widgets` has moved to `ipywidgets`.\n",
      "  \"`IPython.html.widgets` has moved to `ipywidgets`.\", ShimWarning)\n"
     ]
    }
   ],
   "source": [
    "#from __future__ import division\n",
    "import seaborn as sns\n",
    "import cPickle as pickle"
   ]
  },
  {
   "cell_type": "code",
   "execution_count": 2,
   "metadata": {
    "collapsed": true
   },
   "outputs": [],
   "source": [
    "class Stats(object):\n",
    "    def __init__(self):\n",
    "        self.stats = [] # Keeps all stats for each episode\n",
    "        self.cntNegreward = 0    # Number of negative rewards (bad driving) in this trial\n",
    "        self.lastDeadLineVal = 0 # Value of the deadline last time the agent was run. 1 means agent did not meet deadline\n",
    "\n",
    "    def reset(self):\n",
    "        self.stats.append((self.lastDeadLineVal, self.cntNegreward))\n",
    "        self.cntNegreward = 0\n",
    "        self.lastDeadLineVal = 0"
   ]
  },
  {
   "cell_type": "code",
   "execution_count": 20,
   "metadata": {
    "collapsed": false
   },
   "outputs": [],
   "source": [
    "# Extracts the time left when goal was reached (0 means deadline was over)\n",
    "def getLastDeadLineData(pickleFile):\n",
    "    statData = pickle.load(open(pickleFile))\n",
    "    lastDeadlineData = [1 if x[0] > 0 else 0 for x in statData.stats] \n",
    "    return lastDeadlineData\n",
    "\n",
    "# Sums a list over n consecutive values \n",
    "def downsampleList(arr, n):\n",
    "    retList = []\n",
    "    for i in xrange(len(arr)/n):\n",
    "        retList.append(sum(arr[i*n:(i+1)*n]) * 100.0 / n)\n",
    "    return retList"
   ]
  },
  {
   "cell_type": "code",
   "execution_count": 21,
   "metadata": {
    "collapsed": false
   },
   "outputs": [],
   "source": [
    "goalReachedRandomPolicy = getLastDeadLineData('../random_policy_learning.pickle')\n",
    "goalReachedQLearning = getLastDeadLineData('../qlearning_policy_learning.pickle')"
   ]
  },
  {
   "cell_type": "code",
   "execution_count": 22,
   "metadata": {
    "collapsed": false
   },
   "outputs": [
    {
     "name": "stdout",
     "output_type": "stream",
     "text": [
      "[80.0, 100.0, 100.0, 80.0, 100.0, 100.0, 100.0, 100.0, 100.0, 100.0, 100.0, 100.0, 100.0, 100.0, 100.0, 100.0, 100.0, 80.0, 100.0, 100.0]\n"
     ]
    }
   ],
   "source": [
    "print downsampleList(goalReachedQLearning,5)"
   ]
  },
  {
   "cell_type": "code",
   "execution_count": 23,
   "metadata": {
    "collapsed": false
   },
   "outputs": [
    {
     "data": {
      "text/plain": [
       "<matplotlib.legend.Legend at 0x7efeb74dd810>"
      ]
     },
     "execution_count": 23,
     "metadata": {},
     "output_type": "execute_result"
    },
    {
     "data": {
      "image/png": "[encoded data removed]",
      "text/plain": [
       "<matplotlib.figure.Figure at 0x7efeb75d0690>"
      ]
     },
     "metadata": {},
     "output_type": "display_data"
    }
   ],
   "source": [
    "import matplotlib.pyplot as plt\n",
    "%matplotlib inline\n",
    "plt.plot(downsampleList(goalReachedQLearning,5),label = 'QLeanrning_Policy')\n",
    "plt.plot(downsampleList(goalReachedRandomPolicy,5),label = 'Random_Policy')\n",
    "plt.legend()"
   ]
  },
  {
   "cell_type": "code",
   "execution_count": null,
   "metadata": {
    "collapsed": true
   },
   "outputs": [],
   "source": []
  },
  {
   "cell_type": "code",
   "execution_count": null,
   "metadata": {
    "collapsed": true
   },
   "outputs": [],
   "source": []
  }
 ],
 "metadata": {
  "kernelspec": {
   "display_name": "Python 2",
   "language": "python",
   "name": "python2"
  },
  "language_info": {
   "codemirror_mode": {
    "name": "ipython",
    "version": 2
   },
   "file_extension": ".py",
   "mimetype": "text/x-python",
   "name": "python",
   "nbconvert_exporter": "python",
   "pygments_lexer": "ipython2",
   "version": "2.7.12"
  }
 },
 "nbformat": 4,
 "nbformat_minor": 1
}
